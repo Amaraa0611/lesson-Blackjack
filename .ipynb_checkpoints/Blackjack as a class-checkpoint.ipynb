{
 "cells": [
  {
   "cell_type": "code",
   "execution_count": 1,
   "metadata": {},
   "outputs": [],
   "source": [
    "###Black jack"
   ]
  },
  {
   "cell_type": "code",
   "execution_count": 2,
   "metadata": {},
   "outputs": [],
   "source": [
    "from random import shuffle"
   ]
  },
  {
   "cell_type": "code",
   "execution_count": 3,
   "metadata": {},
   "outputs": [],
   "source": [
    "toonud = [str(i) for i in range(2, 11)]"
   ]
  },
  {
   "cell_type": "code",
   "execution_count": 4,
   "metadata": {},
   "outputs": [],
   "source": [
    "toonud.extend(['A', 'K', 'Q', 'J'])"
   ]
  },
  {
   "cell_type": "code",
   "execution_count": 5,
   "metadata": {},
   "outputs": [],
   "source": [
    "suit = ['G', 'B', 'T', 'D']\n",
    "mod = toonud\n",
    "# rank = "
   ]
  },
  {
   "cell_type": "code",
   "execution_count": 6,
   "metadata": {},
   "outputs": [],
   "source": [
    "modnuud = ['G3, G4', 'G10']"
   ]
  },
  {
   "cell_type": "code",
   "execution_count": 7,
   "metadata": {},
   "outputs": [],
   "source": [
    "class Card:\n",
    "    def __init__(self, value):\n",
    "        self.value = value\n",
    "    \n",
    "    def onoo(self):\n",
    "        if self.value[1:] =='A':\n",
    "            rank = int(input('choose your desired value for A: '))\n",
    "        else:\n",
    "            try:\n",
    "                rank = int(self.value[1:])\n",
    "            except:\n",
    "                rank = 10     \n",
    "        return rank"
   ]
  },
  {
   "cell_type": "code",
   "execution_count": 8,
   "metadata": {},
   "outputs": [],
   "source": [
    "class Deck:\n",
    "    def __init__(self, suit, mod):\n",
    "        self.suit = suit\n",
    "        self.mod = mod\n",
    "#         self.modnuud = []\n",
    "        \n",
    "    def modnud(self):\n",
    "        modnuud = []\n",
    "        for card in mod:\n",
    "            for s in suit:\n",
    "                modnuud.append(s+card)\n",
    "        shuffle(modnuud)\n",
    "        self.modnuud = modnuud\n",
    "\n",
    "    def taraah(self):\n",
    "        hozor = self.modnuud.pop(0)\n",
    "        hozor = Card(hozor)\n",
    "        return hozor"
   ]
  },
  {
   "cell_type": "code",
   "execution_count": 23,
   "metadata": {},
   "outputs": [],
   "source": [
    "class Player:\n",
    "    def __init__(self, name, balance):\n",
    "        self.name = name\n",
    "        self.balance = balance\n",
    "        self.cards = []\n",
    "    def hit(self, hozor):\n",
    "        self.cards.append(hozor)\n",
    "        return self.cards\n",
    "    def stand(self):\n",
    "        pass\n",
    "    def win(self, gain):\n",
    "        self.balance += gain\n",
    "    def lose(self, loss):\n",
    "        self.balance -= loss\n",
    "    def bet(self, bet):\n",
    "        self.balance -= bet\n",
    "        return bet\n",
    "    def rank_sum(self):\n",
    "        ##haliunaa bichiv bi hamaagvi\n",
    "        t_onoo = 0\n",
    "        for c in self.cards:\n",
    "            t_onoo += c.onoo()\n",
    "        if t_onoo>21:\n",
    "            print(f'BUST. {self.name} is lost. shame!!!')\n",
    "        elif t_onoo==21:\n",
    "            print(f'BLACKJACK. {self.name} has won. wow!!!')\n",
    "        elif t_onoo <21:\n",
    "            print(t_onoo)\n",
    "            return t_onoo"
   ]
  },
  {
   "cell_type": "code",
   "execution_count": 24,
   "metadata": {},
   "outputs": [
    {
     "name": "stdout",
     "output_type": "stream",
     "text": [
      "10\n"
     ]
    }
   ],
   "source": [
    "####Initializing players and their bet\n",
    "player = Player('Bagsh', 100)\n",
    "dealer = Player('Dealer', 100)\n",
    "\n",
    "pot = player.bet(5)\n",
    "pot += dealer.bet(5)\n",
    "print(pot)"
   ]
  },
  {
   "cell_type": "code",
   "execution_count": 25,
   "metadata": {},
   "outputs": [
    {
     "data": {
      "text/plain": [
       "52"
      ]
     },
     "execution_count": 25,
     "metadata": {},
     "output_type": "execute_result"
    }
   ],
   "source": [
    "### Beginning\n",
    "### create deck\n",
    "deck = Deck(suit, mod)\n",
    "\n",
    "###generate deck and shuffle it\n",
    "deck.modnud()\n",
    "len(deck.modnuud)"
   ]
  },
  {
   "cell_type": "code",
   "execution_count": 26,
   "metadata": {},
   "outputs": [],
   "source": [
    "###hozor taraaah###\n",
    "### first taraalt\n",
    "for _ in range(2):\n",
    "    for t in [player, dealer]:\n",
    "        card = deck.taraah()\n",
    "        t.hit(card)\n",
    "\n",
    "# for i in dealer.cards:\n",
    "#     print(i.value)\n",
    "\n",
    "# for i in (player.cards):\n",
    "#     print(i.value)"
   ]
  },
  {
   "cell_type": "code",
   "execution_count": 27,
   "metadata": {},
   "outputs": [
    {
     "data": {
      "text/plain": [
       "48"
      ]
     },
     "execution_count": 27,
     "metadata": {},
     "output_type": "execute_result"
    }
   ],
   "source": [
    "len(deck.modnuud)"
   ]
  },
  {
   "cell_type": "code",
   "execution_count": 28,
   "metadata": {},
   "outputs": [
    {
     "name": "stdout",
     "output_type": "stream",
     "text": [
      "B9\n",
      "G2\n"
     ]
    }
   ],
   "source": [
    "for i in player.cards:\n",
    "    print(i.value)"
   ]
  },
  {
   "cell_type": "code",
   "execution_count": 29,
   "metadata": {},
   "outputs": [
    {
     "name": "stdout",
     "output_type": "stream",
     "text": [
      "11\n"
     ]
    },
    {
     "data": {
      "text/plain": [
       "11"
      ]
     },
     "execution_count": 29,
     "metadata": {},
     "output_type": "execute_result"
    }
   ],
   "source": [
    "player.rank_sum()"
   ]
  },
  {
   "cell_type": "code",
   "execution_count": 31,
   "metadata": {},
   "outputs": [
    {
     "name": "stdout",
     "output_type": "stream",
     "text": [
      "18\n"
     ]
    }
   ],
   "source": [
    "onoo = dealer.rank_sum()"
   ]
  },
  {
   "cell_type": "code",
   "execution_count": 20,
   "metadata": {},
   "outputs": [],
   "source": [
    "if next_move == 'HIT':\n",
    "    card = deck.taraah()\n",
    "    dealer.hit(card)\n",
    "else:\n",
    "    dealer.stand()"
   ]
  },
  {
   "cell_type": "code",
   "execution_count": 21,
   "metadata": {},
   "outputs": [
    {
     "name": "stdout",
     "output_type": "stream",
     "text": [
      "17\n",
      "Do u want to HIT or STAND?: STAND\n"
     ]
    },
    {
     "data": {
      "text/plain": [
       "(17, 'STAND')"
      ]
     },
     "execution_count": 21,
     "metadata": {},
     "output_type": "execute_result"
    }
   ],
   "source": [
    "dealer.rank_sum()"
   ]
  },
  {
   "cell_type": "code",
   "execution_count": 22,
   "metadata": {},
   "outputs": [
    {
     "name": "stdout",
     "output_type": "stream",
     "text": [
      "19\n",
      "Do u want to HIT or STAND?: stand\n",
      "17\n",
      "Do u want to HIT or STAND?: stand\n",
      "Bagsh has won wow!!!\n"
     ]
    }
   ],
   "source": [
    "if player.rank_sum() > dealer.rank_sum():\n",
    "    print(f'{player.name} has won wow!!!')\n",
    "elif player.rank_sum() == dealer.rank_sum():\n",
    "    print('The players are tied')\n",
    "else:\n",
    "    print(f'{dealer.name} has won. aaa whatever!!!')"
   ]
  },
  {
   "cell_type": "code",
   "execution_count": 172,
   "metadata": {},
   "outputs": [],
   "source": [
    "player.rank_sum() > dealer.rank_sum():card = Card(hozor)"
   ]
  },
  {
   "cell_type": "code",
   "execution_count": 152,
   "metadata": {},
   "outputs": [
    {
     "data": {
      "text/plain": [
       "51"
      ]
     },
     "execution_count": 152,
     "metadata": {},
     "output_type": "execute_result"
    }
   ],
   "source": [
    "len(deck.modnuud)"
   ]
  },
  {
   "cell_type": "code",
   "execution_count": 99,
   "metadata": {},
   "outputs": [
    {
     "name": "stdout",
     "output_type": "stream",
     "text": [
      "Bagsh\n",
      "Dealer\n"
     ]
    }
   ],
   "source": [
    "for t in [player, dealer]:\n",
    "    print(t.name)"
   ]
  },
  {
   "cell_type": "markdown",
   "metadata": {},
   "source": [
    "### GAME"
   ]
  },
  {
   "cell_type": "code",
   "execution_count": 32,
   "metadata": {},
   "outputs": [],
   "source": [
    "### KHAKIUNAA BICHNE"
   ]
  }
 ],
 "metadata": {
  "kernelspec": {
   "display_name": "Python 3",
   "language": "python",
   "name": "python3"
  },
  "language_info": {
   "codemirror_mode": {
    "name": "ipython",
    "version": 3
   },
   "file_extension": ".py",
   "mimetype": "text/x-python",
   "name": "python",
   "nbconvert_exporter": "python",
   "pygments_lexer": "ipython3",
   "version": "3.8.5"
  }
 },
 "nbformat": 4,
 "nbformat_minor": 5
}
