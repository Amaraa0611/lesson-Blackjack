{
 "cells": [
  {
   "cell_type": "code",
   "execution_count": 1,
   "metadata": {},
   "outputs": [],
   "source": [
    "###Black jack"
   ]
  },
  {
   "cell_type": "code",
   "execution_count": 1,
   "metadata": {},
   "outputs": [],
   "source": [
    "from random import shuffle"
   ]
  },
  {
   "cell_type": "code",
   "execution_count": 2,
   "metadata": {},
   "outputs": [],
   "source": [
    "#Niit huzurnii suuri ugugdul\n",
    "\n",
    "toonud = [str(i) for i in range(2, 11)]\n",
    "toonud.extend(['A', 'K', 'Q', 'J'])\n",
    "suit = ['G', 'B', 'T', 'D']\n",
    "mod = toonud"
   ]
  },
  {
   "cell_type": "code",
   "execution_count": 3,
   "metadata": {},
   "outputs": [
    {
     "name": "stdout",
     "output_type": "stream",
     "text": [
      "['2', '3', '4', '5', '6', '7', '8', '9', '10', 'A', 'K', 'Q', 'J']\n",
      "['G', 'B', 'T', 'D']\n",
      "['2', '3', '4', '5', '6', '7', '8', '9', '10', 'A', 'K', 'Q', 'J']\n"
     ]
    }
   ],
   "source": [
    "print(toonud)\n",
    "print(suit)\n",
    "print(mod)"
   ]
  },
  {
   "cell_type": "code",
   "execution_count": 53,
   "metadata": {},
   "outputs": [],
   "source": [
    "#Onoo uguh ugugdul\n",
    "class Card:\n",
    "    def __init__(self, value):\n",
    "        self.value = value\n",
    "    \n",
    "    def onoo(self):\n",
    "        if self.value[1:] =='A':\n",
    "            rank = int(input('Choose your desired value for A: '))\n",
    "        else:\n",
    "            try:\n",
    "                rank = int(self.value[1:])\n",
    "            except:\n",
    "                rank = 10\n",
    "        return rank"
   ]
  },
  {
   "cell_type": "code",
   "execution_count": 54,
   "metadata": {},
   "outputs": [],
   "source": [
    "#Niit modnoos huzur holih bolon taraah function\n",
    "class Deck:\n",
    "    def __init__(self, suit, mod):\n",
    "        self.suit = suit\n",
    "        self.mod = mod\n",
    "#         self.modnuud = []\n",
    "        \n",
    "    def modnud(self):\n",
    "        modnuud = []\n",
    "        for card in mod:\n",
    "            for s in suit:\n",
    "                modnuud.append(s+card)\n",
    "        shuffle(modnuud)\n",
    "        self.modnuud = modnuud\n",
    "\n",
    "    def taraah(self):\n",
    "        hozor = self.modnuud.pop(0)\n",
    "        hozor = Card(hozor)\n",
    "        return hozor"
   ]
  },
  {
   "cell_type": "code",
   "execution_count": null,
   "metadata": {},
   "outputs": [],
   "source": [
    "#players' moves\n",
    "class Player:\n",
    "    def __init__(self, name, balance):\n",
    "        self.name = name\n",
    "        self.balance = balance\n",
    "        self.cards = []\n",
    "    def hit(self, hozor):\n",
    "        self.cards.append(hozor)\n",
    "        return self.cards\n",
    "    def stand(self):\n",
    "        pass\n",
    "    def win(self, gain):\n",
    "        self.balance += gain\n",
    "    def lose(self, loss):\n",
    "        self.balance -= loss\n",
    "    def bet(self, bet):\n",
    "        self.balance -= bet\n",
    "        return bet\n",
    "    def rank_sum(self):\n",
    "        ##haliunaa bichiv bi hamaagvi\n",
    "        t_onoo = 0\n",
    "        for c in self.cards:\n",
    "            t_onoo += c.onoo()\n",
    "        if t_onoo>21:\n",
    "            print(f'BUST! {self.name} is lost. Shame!!!')\n",
    "            pass\n",
    "        elif t_onoo==21:\n",
    "            print(f'BLACKJACK! {self.name} has won. WOW!!!')\n",
    "            pass\n",
    "        elif t_onoo <21:\n",
    "            print(t_onoo)\n",
    "            return t_onoo"
   ]
  },
  {
   "cell_type": "code",
   "execution_count": 56,
   "metadata": {},
   "outputs": [],
   "source": [
    "####Initializing players and their bet\n",
    "#player = Player('Bagsh', 100)\n",
    "#dealer = Player('Dealer', 100)\n",
    "\n",
    "#pot = player.bet(5)\n",
    "#pot += dealer.bet(5)\n",
    "#print(pot)"
   ]
  },
  {
   "cell_type": "code",
   "execution_count": 8,
   "metadata": {},
   "outputs": [],
   "source": [
    "### Beginning\n",
    "### create deck\n",
    "#deck = Deck(suit, mod)\n",
    "\n",
    "###generate deck and shuffle it\n",
    "#deck.modnud()\n",
    "#len(deck.modnuud)"
   ]
  },
  {
   "cell_type": "code",
   "execution_count": 9,
   "metadata": {},
   "outputs": [],
   "source": [
    "###hozor taraaah###\n",
    "### first taraalt\n",
    "#for _ in range(2):\n",
    "#    for t in [player, dealer]:\n",
    " #       card = deck.taraah()\n",
    "  #      t.hit(card)\n",
    "\n",
    "# for i in dealer.cards:\n",
    "#     print(i.value)\n",
    "\n",
    "# for i in (player.cards):\n",
    "#     print(i.value)"
   ]
  },
  {
   "cell_type": "code",
   "execution_count": 10,
   "metadata": {},
   "outputs": [],
   "source": [
    "#len(deck.modnuud)"
   ]
  },
  {
   "cell_type": "code",
   "execution_count": 11,
   "metadata": {},
   "outputs": [],
   "source": [
    "#for i in player.cards:\n",
    "#    print(i.value)"
   ]
  },
  {
   "cell_type": "code",
   "execution_count": 12,
   "metadata": {},
   "outputs": [],
   "source": [
    "#player.rank_sum()"
   ]
  },
  {
   "cell_type": "code",
   "execution_count": 13,
   "metadata": {},
   "outputs": [],
   "source": [
    "#onoo = dealer.rank_sum()"
   ]
  },
  {
   "cell_type": "code",
   "execution_count": 16,
   "metadata": {},
   "outputs": [
    {
     "data": {
      "text/plain": [
       "\"\\nif next_move == 'HIT':\\n    card = deck.taraah()\\n    dealer.hit(card)\\nelse:\\n    dealer.stand()\\n\""
      ]
     },
     "execution_count": 16,
     "metadata": {},
     "output_type": "execute_result"
    }
   ],
   "source": [
    "\"\"\"\n",
    "if next_move == 'HIT':\n",
    "    card = deck.taraah()\n",
    "    dealer.hit(card)\n",
    "else:\n",
    "    dealer.stand()\n",
    "\"\"\""
   ]
  },
  {
   "cell_type": "code",
   "execution_count": 17,
   "metadata": {},
   "outputs": [],
   "source": [
    "#dealer.rank_sum()"
   ]
  },
  {
   "cell_type": "code",
   "execution_count": 18,
   "metadata": {},
   "outputs": [
    {
     "data": {
      "text/plain": [
       "\"\\nif player.rank_sum() > dealer.rank_sum():\\n    print(f'{player.name} has won wow!!!')\\nelif player.rank_sum() == dealer.rank_sum():\\n    print('The players are tied')\\nelse:\\n    print(f'{dealer.name} has won. aaa whatever!!!')\\n\""
      ]
     },
     "execution_count": 18,
     "metadata": {},
     "output_type": "execute_result"
    }
   ],
   "source": [
    "'''\n",
    "if player.rank_sum() > dealer.rank_sum():\n",
    "    print(f'{player.name} has won wow!!!')\n",
    "elif player.rank_sum() == dealer.rank_sum():\n",
    "    print('The players are tied')\n",
    "else:\n",
    "    print(f'{dealer.name} has won. aaa whatever!!!')\n",
    "'''"
   ]
  },
  {
   "cell_type": "code",
   "execution_count": 19,
   "metadata": {},
   "outputs": [],
   "source": [
    "#player.rank_sum() > dealer.rank_sum():card = Card(hozor)"
   ]
  },
  {
   "cell_type": "code",
   "execution_count": 21,
   "metadata": {},
   "outputs": [],
   "source": [
    "#len(deck.modnuud)"
   ]
  },
  {
   "cell_type": "code",
   "execution_count": 22,
   "metadata": {},
   "outputs": [],
   "source": [
    "#for t in [player, dealer]:\n",
    " #   print(t.name)"
   ]
  },
  {
   "cell_type": "markdown",
   "metadata": {},
   "source": [
    "### GAME"
   ]
  },
  {
   "cell_type": "code",
   "execution_count": 32,
   "metadata": {},
   "outputs": [],
   "source": [
    "### KHAKIUNAA BICHNE"
   ]
  },
  {
   "cell_type": "code",
   "execution_count": 58,
   "metadata": {},
   "outputs": [
    {
     "name": "stdout",
     "output_type": "stream",
     "text": [
      "What is our player's  name?  H\n",
      "-- Kind  reminder: We are not taking any bets for today.\n",
      "++ The Dealer is now shuffling and spreading cards. Please be PATIENT! Thank you. And please respond: \n",
      "o\n",
      "H's cards are:\n",
      "DQ\n",
      "+and its total value is:\n",
      "10\n",
      "What is your next move, H HIT or STAND?: HIT\n",
      "H's cards are now:\n",
      "DQ\n",
      "T5\n",
      "+and its total value is:\n",
      "15\n",
      "H's cards are:\n",
      "DQ\n",
      "T5\n",
      "+and its total value is:\n",
      "15\n",
      "What is your next move, H HIT or STAND?: STAND\n",
      "The Dealer's cards are:\n",
      "B6\n",
      "+and its total value is:\n",
      "6\n",
      "Do you want to see the results? YES\n",
      "H's cards are:\n",
      "DQ\n",
      "T5\n",
      "TK\n",
      "+and its total value is:\n",
      "BUST! H is lost. Shame!!!\n",
      "What is your next move, H HIT or STAND?: STAND\n",
      "The Dealer's cards are:\n",
      "B6\n",
      "+and its total value is:\n",
      "6\n",
      "Do you want to see the results? NO\n",
      "H's cards are:\n",
      "DQ\n",
      "T5\n",
      "TK\n",
      "+and its total value is:\n",
      "BUST! H is lost. Shame!!!\n",
      "What is your next move, H HIT or STAND?: NO\n"
     ]
    }
   ],
   "source": [
    "player = Player(str(input(\"What is our player's  name?  \")), 100)\n",
    "dealer = Player('Dealer', 100)\n",
    "\n",
    "print('-- Kind  reminder: We are not taking any bets for today.')\n",
    "print('++ The Dealer is now shuffling and spreading cards. Please be PATIENT! Thank you. And please respond: ')\n",
    "nothing = input()\n",
    "#shuffle\n",
    "if len(nothing) >= 0:\n",
    "    deck = Deck(suit, mod)\n",
    "    deck.modnud()\n",
    "\n",
    "    #taraalt no.1\n",
    "    for _ in range(2):\n",
    "        for t in [player, dealer]:\n",
    "            card = deck.taraah()\n",
    "            t.hit(card)\n",
    "\n",
    "            print(f\"{player.name}'s cards are:\")\n",
    "            for i in player.cards:\n",
    "                print(i.value)                    \n",
    "            print(\"+and its total value is:\")\n",
    "            player.rank_sum()\n",
    "            next_move = str(input(f'What is your next move, {player.name} HIT or STAND?: '))\n",
    "\n",
    "            #taraalt no.2\n",
    "            if next_move == 'HIT':\n",
    "                card = deck.taraah()\n",
    "                player.hit(card)\n",
    "\n",
    "                print(f\"{player.name}'s cards are now:\")\n",
    "                for i in player.cards:\n",
    "                    print(i.value)                    \n",
    "                print(\"+and its total value is:\")\n",
    "                player.rank_sum()\n",
    "\n",
    "            #dealer huzur neelee\n",
    "            elif next_move == 'STAND':\n",
    "                player.stand()\n",
    "\n",
    "                print(\"The Dealer's cards are:\")\n",
    "                for i in dealer.cards:\n",
    "                    print(i.value)                    \n",
    "                print(\"+and its total value is:\")\n",
    "                dealer.rank_sum()\n",
    "\n",
    "                #togloomiin tugsgul\n",
    "                last_move = str(input('Do you want to see the results? '))\n",
    "                if last_move == 'yes':\n",
    "                    if player.rank_sum() > dealer.rank_sum():\n",
    "                        print(f'{player.name} has won wow!!!')\n",
    "                    elif player.rank_sum() == dealer.rank_sum():\n",
    "                        print('The players are tied. Thank you two.')\n",
    "                    else:\n",
    "                        print(f'{dealer.name} has won. aaa whatever!!!')\n",
    "                        break\n",
    "\n",
    "                #last move\n",
    "             #   else:\n",
    "                   # break\n",
    "\n",
    "            #next move\n",
    "           # else:\n",
    "               # break\n",
    "        \n",
    "#else:\n",
    " #   break\n",
    "    "
   ]
  },
  {
   "cell_type": "code",
   "execution_count": null,
   "metadata": {},
   "outputs": [],
   "source": []
  }
 ],
 "metadata": {
  "kernelspec": {
   "display_name": "Python 3",
   "language": "python",
   "name": "python3"
  },
  "language_info": {
   "codemirror_mode": {
    "name": "ipython",
    "version": 3
   },
   "file_extension": ".py",
   "mimetype": "text/x-python",
   "name": "python",
   "nbconvert_exporter": "python",
   "pygments_lexer": "ipython3",
   "version": "3.8.5"
  }
 },
 "nbformat": 4,
 "nbformat_minor": 5
}
