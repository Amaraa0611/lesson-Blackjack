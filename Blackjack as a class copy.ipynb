{
 "cells": [
  {
   "cell_type": "code",
   "execution_count": 1,
   "id": "operational-stopping",
   "metadata": {},
   "outputs": [],
   "source": [
    "###Black jack"
   ]
  },
  {
   "cell_type": "code",
   "execution_count": 1,
   "id": "analyzed-waters",
   "metadata": {},
   "outputs": [],
   "source": [
    "from random import shuffle"
   ]
  },
  {
   "cell_type": "code",
   "execution_count": 2,
   "id": "respected-drama",
   "metadata": {},
   "outputs": [],
   "source": [
    "#Niit huzurnii suuri ugugdul\n",
    "\n",
    "toonud = [str(i) for i in range(2, 11)]\n",
    "toonud.extend(['A', 'K', 'Q', 'J'])\n",
    "suit = ['G', 'B', 'T', 'D']\n",
    "mod = toonud"
   ]
  },
  {
   "cell_type": "code",
   "execution_count": 3,
   "id": "blind-blackjack",
   "metadata": {},
   "outputs": [
    {
     "name": "stdout",
     "output_type": "stream",
     "text": [
      "['2', '3', '4', '5', '6', '7', '8', '9', '10', 'A', 'K', 'Q', 'J']\n",
      "['G', 'B', 'T', 'D']\n",
      "['2', '3', '4', '5', '6', '7', '8', '9', '10', 'A', 'K', 'Q', 'J']\n"
     ]
    }
   ],
   "source": [
    "print(toonud)\n",
    "print(suit)\n",
    "print(mod)"
   ]
  },
  {
   "cell_type": "code",
   "execution_count": 26,
   "id": "careful-inside",
   "metadata": {},
   "outputs": [],
   "source": [
    "#Onoo uguh ugugdul\n",
    "class Card:\n",
    "    def __init__(self, value):\n",
    "        self.value = value\n",
    "        self.rank = ''\n",
    "    \n",
    "    def onoo(self):\n",
    "        if self.value[1:] =='A':\n",
    "            if self.rank == '':\n",
    "                self.rank = int(input('Choose your desired value for A: '))\n",
    "        else:\n",
    "            try:\n",
    "                self.rank = int(self.value[1:])\n",
    "            except:\n",
    "                self.rank = 10\n",
    "        return self.rank"
   ]
  },
  {
   "cell_type": "code",
   "execution_count": 27,
   "id": "minimal-closure",
   "metadata": {},
   "outputs": [],
   "source": [
    "#Niit modnoos huzur holih bolon taraah function\n",
    "class Deck:\n",
    "    def __init__(self, suit, mod):\n",
    "        self.suit = suit\n",
    "        self.mod = mod\n",
    "#         self.modnuud = []\n",
    "        \n",
    "    def modnud(self):\n",
    "        modnuud = []\n",
    "        for card in mod:\n",
    "            for s in suit:\n",
    "                modnuud.append(s+card)\n",
    "        shuffle(modnuud)\n",
    "        self.modnuud = modnuud\n",
    "\n",
    "    def taraah(self):\n",
    "        hozor = self.modnuud.pop(0)\n",
    "        hozor = Card(hozor)\n",
    "        return hozor"
   ]
  },
  {
   "cell_type": "code",
   "execution_count": 28,
   "id": "prime-avenue",
   "metadata": {},
   "outputs": [],
   "source": [
    "#players' moves\n",
    "class Player:\n",
    "    def __init__(self, name, balance):\n",
    "        self.name = name\n",
    "        self.balance = balance\n",
    "        self.cards = []\n",
    "    def hit(self, hozor):\n",
    "        self.cards.append(hozor)\n",
    "        return self.cards\n",
    "    def stand(self):\n",
    "        pass\n",
    "    def win(self, gain):\n",
    "        self.balance += gain\n",
    "    def lose(self, loss):\n",
    "        self.balance -= loss\n",
    "    def bet(self, bet):\n",
    "        self.balance -= bet\n",
    "        return bet\n",
    "    def rank_sum(self):\n",
    "        ##haliunaa bichiv bi hamaagvi\n",
    "        t_onoo = 0\n",
    "        for c in self.cards:\n",
    "            t_onoo += c.onoo()\n",
    "        if t_onoo>21:\n",
    "            print(f'BUST! {self.name} is lost. Shame!!!')\n",
    "            print(t_onoo)\n",
    "            t_onoo = 100\n",
    "            return t_onoo\n",
    "        elif t_onoo==21:\n",
    "            print(f'BLACKJACK! {self.name} has won. WOW!!!')\n",
    "            print(t_onoo)\n",
    "            t_onoo = 100\n",
    "            return t_onoo\n",
    "        elif t_onoo <21:\n",
    "            print(t_onoo)\n",
    "            return t_onoo"
   ]
  },
  {
   "cell_type": "code",
   "execution_count": 7,
   "id": "passing-prague",
   "metadata": {},
   "outputs": [],
   "source": [
    "####Initializing players and their bet\n",
    "#player = Player('Bagsh', 100)\n",
    "#dealer = Player('Dealer', 100)\n",
    "\n",
    "#pot = player.bet(5)\n",
    "#pot += dealer.bet(5)\n",
    "#print(pot)"
   ]
  },
  {
   "cell_type": "code",
   "execution_count": 8,
   "id": "reverse-protein",
   "metadata": {},
   "outputs": [],
   "source": [
    "### Beginning\n",
    "### create deck\n",
    "#deck = Deck(suit, mod)\n",
    "\n",
    "###generate deck and shuffle it\n",
    "#deck.modnud()\n",
    "#len(deck.modnuud)"
   ]
  },
  {
   "cell_type": "code",
   "execution_count": 9,
   "id": "dependent-bennett",
   "metadata": {},
   "outputs": [],
   "source": [
    "###hozor taraaah###\n",
    "### first taraalt\n",
    "#for _ in range(2):\n",
    "#    for t in [player, dealer]:\n",
    " #       card = deck.taraah()\n",
    "  #      t.hit(card)\n",
    "\n",
    "# for i in dealer.cards:\n",
    "#     print(i.value)\n",
    "\n",
    "# for i in (player.cards):\n",
    "#     print(i.value)"
   ]
  },
  {
   "cell_type": "code",
   "execution_count": 10,
   "id": "norman-assumption",
   "metadata": {},
   "outputs": [],
   "source": [
    "#len(deck.modnuud)"
   ]
  },
  {
   "cell_type": "code",
   "execution_count": 11,
   "id": "muslim-engagement",
   "metadata": {},
   "outputs": [],
   "source": [
    "#for i in player.cards:\n",
    "#    print(i.value)"
   ]
  },
  {
   "cell_type": "code",
   "execution_count": 12,
   "id": "played-digit",
   "metadata": {},
   "outputs": [],
   "source": [
    "#player.rank_sum()"
   ]
  },
  {
   "cell_type": "code",
   "execution_count": 13,
   "id": "adjacent-domestic",
   "metadata": {},
   "outputs": [],
   "source": [
    "#onoo = dealer.rank_sum()"
   ]
  },
  {
   "cell_type": "code",
   "execution_count": 14,
   "id": "regulated-attitude",
   "metadata": {},
   "outputs": [
    {
     "data": {
      "text/plain": [
       "\"\\nif next_move == 'HIT':\\n    card = deck.taraah()\\n    dealer.hit(card)\\nelse:\\n    dealer.stand()\\n\""
      ]
     },
     "execution_count": 14,
     "metadata": {},
     "output_type": "execute_result"
    }
   ],
   "source": [
    "\"\"\"\n",
    "if next_move == 'HIT':\n",
    "    card = deck.taraah()\n",
    "    dealer.hit(card)\n",
    "else:\n",
    "    dealer.stand()\n",
    "\"\"\""
   ]
  },
  {
   "cell_type": "code",
   "execution_count": 15,
   "id": "optical-waters",
   "metadata": {},
   "outputs": [],
   "source": [
    "#dealer.rank_sum()"
   ]
  },
  {
   "cell_type": "code",
   "execution_count": 16,
   "id": "alpha-naples",
   "metadata": {},
   "outputs": [
    {
     "data": {
      "text/plain": [
       "\"\\nif player.rank_sum() > dealer.rank_sum():\\n    print(f'{player.name} has won wow!!!')\\nelif player.rank_sum() == dealer.rank_sum():\\n    print('The players are tied')\\nelse:\\n    print(f'{dealer.name} has won. aaa whatever!!!')\\n\""
      ]
     },
     "execution_count": 16,
     "metadata": {},
     "output_type": "execute_result"
    }
   ],
   "source": [
    "'''\n",
    "if player.rank_sum() > dealer.rank_sum():\n",
    "    print(f'{player.name} has won wow!!!')\n",
    "elif player.rank_sum() == dealer.rank_sum():\n",
    "    print('The players are tied')\n",
    "else:\n",
    "    print(f'{dealer.name} has won. aaa whatever!!!')\n",
    "'''"
   ]
  },
  {
   "cell_type": "code",
   "execution_count": 17,
   "id": "conventional-output",
   "metadata": {},
   "outputs": [],
   "source": [
    "#player.rank_sum() > dealer.rank_sum():card = Card(hozor)"
   ]
  },
  {
   "cell_type": "code",
   "execution_count": 18,
   "id": "incoming-spelling",
   "metadata": {},
   "outputs": [],
   "source": [
    "#len(deck.modnuud)"
   ]
  },
  {
   "cell_type": "code",
   "execution_count": 19,
   "id": "precious-vulnerability",
   "metadata": {},
   "outputs": [],
   "source": [
    "#for t in [player, dealer]:\n",
    " #   print(t.name)"
   ]
  },
  {
   "cell_type": "markdown",
   "id": "touched-gender",
   "metadata": {},
   "source": [
    "### GAME"
   ]
  },
  {
   "cell_type": "code",
   "execution_count": 20,
   "id": "functional-perception",
   "metadata": {},
   "outputs": [],
   "source": [
    "### KHAKIUNAA BICHNE"
   ]
  },
  {
   "cell_type": "code",
   "execution_count": 38,
   "id": "lined-railway",
   "metadata": {},
   "outputs": [
    {
     "name": "stdout",
     "output_type": "stream",
     "text": [
      "What is our player's  name?  AMaraa\n",
      "-- Kind  reminder: We are not taking any bets for today. \n",
      "++ The Dealer is now shuffling and spreading cards. Please be PATIENT! Thank you. And please respond: \n",
      "okey\n",
      "Now the total pot is 20. \n",
      "Goodluck!!!\n",
      "AMaraa's cards are:\n",
      "D5\n",
      "D7\n",
      "+and its total value is:\n",
      "12\n",
      "Dealers first card is : G7 and its rank is 7\n",
      "What is your next move, AMaraa HIT or STAND?: HIT\n",
      "AMaraa's cards are now:\n",
      "D5\n",
      "D7\n",
      "B5\n",
      "+and its total value is:\n",
      "17\n",
      "What is your next move, AMaraa HIT or STAND?: STAND\n",
      "The Dealer's cards are:\n",
      "G7\n",
      "G5\n",
      "+and its total value is:\n",
      "12\n",
      "The Dealer's cards are:\n",
      "G7\n",
      "G5\n",
      "TK\n",
      "+and its total value is:\n",
      "BUST! Dealer is lost. Shame!!!\n",
      "22\n"
     ]
    }
   ],
   "source": [
    "player = Player(str(input(\"What is our player's  name?  \")), 100)\n",
    "dealer = Player('Dealer', 100)\n",
    "\n",
    "print('-- Kind  reminder: We are not taking any bets for today. \\n++ The Dealer is now shuffling and spreading cards. Please be PATIENT! Thank you. And please respond: ')\n",
    "\n",
    "nothing = input()\n",
    "#shuffle\n",
    "game_on = True\n",
    "while game_on:\n",
    "    deck = Deck(suit, mod)\n",
    "    deck.modnud()\n",
    "    \n",
    "    ### bet part\n",
    "    pot = 0\n",
    "    for i in [player, dealer]:\n",
    "        pot += i.bet(10)\n",
    "    print(f'Now the total pot is {pot}. \\nGoodluck!!!')    \n",
    "        \n",
    "    #taraalt no.1\n",
    "    for _ in range(2):\n",
    "        for t in [player, dealer]:\n",
    "            card = deck.taraah()\n",
    "            t.hit(card)\n",
    "\n",
    "\n",
    "    print(f\"{player.name}'s cards are:\")\n",
    "    for i in player.cards:\n",
    "        print(i.value)                \n",
    "\n",
    "    print(\"+and its total value is:\")\n",
    "    t_onoo = player.rank_sum()\n",
    "    if t_onoo >=21:\n",
    "        game_on = False\n",
    "        break\n",
    "    else:\n",
    "        d_first_card = dealer.cards[0].onoo()\n",
    "        print(f'{dealer.name}s first card is : {dealer.cards[0].value} and its rank is {d_first_card}')\n",
    "        next_move = str(input(f'What is your next move, {player.name} HIT or STAND?: '))\n",
    "\n",
    "        #taraalt no.2\n",
    "        while next_move == 'HIT':\n",
    "            card = deck.taraah()\n",
    "            player.hit(card)\n",
    "\n",
    "            print(f\"{player.name}'s cards are now:\")\n",
    "            for i in player.cards:\n",
    "                print(i.value)                \n",
    "\n",
    "            print(\"+and its total value is:\")\n",
    "            t_onoo = player.rank_sum()\n",
    "            if t_onoo==100:\n",
    "                game_on =False\n",
    "                break\n",
    "            next_move = str(input(f'What is your next move, {player.name} HIT or STAND?: '))       \n",
    "\n",
    "        else:\n",
    "    #     #dealer huzur neelee\n",
    "            player.stand()\n",
    "\n",
    "            print(\"The Dealer's cards are:\")\n",
    "            for i in dealer.cards:\n",
    "                print(i.value)                   \n",
    "            print(\"+and its total value is:\")\n",
    "            d_onoo = dealer.rank_sum()\n",
    "\n",
    "            if d_onoo <17:\n",
    "                while d_onoo < 17 and d_onoo <21:\n",
    "                    card = deck.taraah()\n",
    "                    dealer.hit(card)\n",
    "                    print(\"The Dealer's cards are:\")\n",
    "                    for i in dealer.cards:\n",
    "                        print(i.value)                    \n",
    "                    print(\"+and its total value is:\")\n",
    "                    d_onoo = dealer.rank_sum()\n",
    "                else:\n",
    "                    if d_onoo <= 21:\n",
    "                        dealer.stand()\n",
    "                        if player.rank_sum() > dealer.rank_sum():\n",
    "                            print(f'{player.name} has won wow!!!')\n",
    "                            game_on = False\n",
    "                        elif player.rank_sum() == dealer.rank_sum():\n",
    "                            print('The players are tied. Thank you two.')\n",
    "                            game_on = False\n",
    "                        else:\n",
    "                            print(f'{dealer.name} has won. aaa whatever!!!')\n",
    "                            game_on = False\n",
    "                            break\n",
    "                                 \n",
    "                    else:\n",
    "                        game_on==False\n",
    "                        break                \n",
    "            elif d_onoo ==100:\n",
    "                game_on==False\n",
    "                print('it wokreddd')\n",
    "                break\n",
    "            else:\n",
    "    #             #togloomiin tugsgul\n",
    "    #             last_move = str(input('Do you want to see the results? '))\n",
    "    #             if last_move == 'yes':\n",
    "                if player.rank_sum() > dealer.rank_sum():\n",
    "                    print(f'{player.name} has won wow!!!')\n",
    "                elif player.rank_sum() == dealer.rank_sum():\n",
    "                    print('The players are tied. Thank you two.')\n",
    "                else:\n",
    "                    print(f'{dealer.name} has won. aaa whatever!!!')\n",
    "                    break\n",
    "        if game_on==False:\n",
    "            break\n",
    "    if game_on==False:\n",
    "        break"
   ]
  },
  {
   "cell_type": "code",
   "execution_count": null,
   "id": "presidential-dynamics",
   "metadata": {},
   "outputs": [],
   "source": [
    "#Bug 1. taraah uyed 2 hozor haragdahgvi bga (check)\n",
    "#Bug 2. Dealer hit esvl stand hiih bolomjgvi has no game functionality\n",
    "#Bug 3. Bet bhgvi\n",
    "#Bug 4. tamgatqai uyed rank_sum ajillahgvi bga\n",
    "#Bug 5. Tamga asuuh uye bolgond asuuj bn\n",
    "#Bug 6."
   ]
  }
 ],
 "metadata": {
  "kernelspec": {
   "display_name": "Python 3",
   "language": "python",
   "name": "python3"
  },
  "language_info": {
   "codemirror_mode": {
    "name": "ipython",
    "version": 3
   },
   "file_extension": ".py",
   "mimetype": "text/x-python",
   "name": "python",
   "nbconvert_exporter": "python",
   "pygments_lexer": "ipython3",
   "version": "3.9.1"
  }
 },
 "nbformat": 4,
 "nbformat_minor": 5
}
